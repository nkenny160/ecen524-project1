{
 "cells": [
  {
   "cell_type": "code",
   "execution_count": null,
   "metadata": {},
   "outputs": [],
   "source": [
    "import numpy as np\n",
    "from dtw import *\n",
    "from dtw import dtw\n",
    "import matplotlib.pyplot as plt\n",
    "import pandas as pd\n",
    "\n",
    "\n",
    "fp1=\"Kinesthetic_teaching_take_1.csv\"\n",
    "fp2=\"Kinesthetic_teaching_take_2.csv\"\n",
    "#fp3=\"Kinesthetic_teaching_take_3.csv\"\n",
    "#fp4=\"Kinesthetic_teaching_take_4.csv\"\n",
    "#fp5=\"Kinesthetic_teaching_take_5.csv\"\n",
    "\n",
    "df1=pd.read_csv(fp1)\n",
    "df2=pd.read_csv(fp2)\n",
    "#df3=pd.read_csv(fp3)\n",
    "#df4=pd.read_csv(fp4)\n",
    "#df5=pd.read_csv(fp5)\n",
    "\n",
    "column_data1= df1[\"EE Position x\"].values\n",
    "column_data2= df2[\"EE Position x\"].values\n",
    "#column_data3= df3[\"EE Position x\"].values\n",
    "#column_data4= df4[\"EE Position x\"].values\n",
    "#column_data5= df5[\"EE Position x\"].values\n",
    "\n",
    "x=np.array(column_data1)\n",
    "y=np.array(column_data2)\n",
    "#z=np.array(column_data3)\n",
    "\n",
    "alignment = dtw(x, y, keep_internals=True)\n",
    "\n",
    "## Display the warping curve, i.e. the alignment curve\n",
    "alignment.plot(type=\"threeway\")\n",
    "\n",
    "dtw(x, y, keep_internals=True,\n",
    "    step_pattern=rabinerJuangStepPattern(6, \"c\"))\\\n",
    "    .plot(type=\"twoway\",offset=-2)\n",
    "\n",
    "plt.show()\n"
   ]
  }
 ],
 "metadata": {
  "kernelspec": {
   "display_name": "ecen520",
   "language": "python",
   "name": "python3"
  },
  "language_info": {
   "name": "python",
   "version": "3.10.8"
  }
 },
 "nbformat": 4,
 "nbformat_minor": 2
}
